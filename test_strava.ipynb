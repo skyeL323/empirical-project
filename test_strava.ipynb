{
 "cells": [
  {
   "cell_type": "code",
   "execution_count": null,
   "metadata": {},
   "outputs": [],
   "source": [
    "import xml.etree.ElementTree as ET\n",
    "\n",
    "# Load GPX file\n",
    "tree = ET.parse(skye_strava_data/activities/)\n",
    "root = tree.getroot()\n",
    "\n",
    "# Namespace used in GPX files\n",
    "ns = {\"default\": \"http://www.topografix.com/GPX/1/1\"}\n",
    "\n",
    "# Extract track points\n",
    "track_data = []\n",
    "for trkpt in root.findall(\".//default:trkpt\", ns):\n",
    "    lat = float(trkpt.get(\"lat\"))\n",
    "    lon = float(trkpt.get(\"lon\"))\n",
    "    ele = float(trkpt.find(\"default:ele\", ns).text)\n",
    "    time = trkpt.find(\"default:time\", ns).text\n",
    "    track_data.append((lat, lon, ele, time))\n",
    "\n",
    "# Print first few data points\n",
    "for point in track_data[:5]:\n",
    "    print(point)\n"
   ]
  }
 ],
 "metadata": {
  "language_info": {
   "name": "python"
  }
 },
 "nbformat": 4,
 "nbformat_minor": 2
}
